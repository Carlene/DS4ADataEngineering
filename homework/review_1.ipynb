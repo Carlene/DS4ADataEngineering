{
 "cells": [
  {
   "cell_type": "markdown",
   "id": "ba8d139c",
   "metadata": {
    "deletable": false,
    "editable": false,
    "nbgrader": {
     "cell_type": "markdown",
     "checksum": "2fd02712e6d3ad08588f34c224cbe061",
     "grade": false,
     "grade_id": "cell-b07a8a8c5dd20de4",
     "locked": true,
     "schema_version": 3,
     "solution": false,
     "task": false
    }
   },
   "source": [
    "# Review Module"
   ]
  },
  {
   "cell_type": "markdown",
   "id": "2342ea0a",
   "metadata": {
    "deletable": false,
    "editable": false,
    "nbgrader": {
     "cell_type": "markdown",
     "checksum": "2314aa58e19f2920f289add7ade78e19",
     "grade": false,
     "grade_id": "cell-334b6197317c16e1",
     "locked": true,
     "schema_version": 3,
     "solution": false,
     "task": false
    }
   },
   "source": [
    "**Instructions**\n",
    "\n",
    "For this review module, the exercises will require you to uncomment lines of code. In order to complete this part, we recommend you follow these instructions:\n",
    "\n",
    "1. Do *not* change anything other than removing the '#' before the answer you choose. If you change anything else, the autograder will fail and you will not receive any points.\n",
    "2. To check that your answers are correct, click on `Kernel > Restart & Run All`. If any of the cells in your notebook produces an error, that means you need to adjust your answers."
   ]
  },
  {
   "cell_type": "markdown",
   "id": "428bd7bf",
   "metadata": {
    "deletable": false,
    "editable": false,
    "nbgrader": {
     "cell_type": "markdown",
     "checksum": "e9821e8c1bdccb60341d6c3a584e7092",
     "grade": false,
     "grade_id": "cell-7d9e791f37a5d1d6",
     "locked": true,
     "schema_version": 3,
     "solution": false,
     "task": false
    }
   },
   "source": [
    "### Exercise 1\n",
    "\n",
    "In the Laundry/Closet example, which of the following would represent a data warehouse?\n",
    "\n",
    "* A. The closet itself\n",
    "* B. A drawer in the closet\n",
    "* C. The laundry basket\n",
    "* D. The outfit that is assembled"
   ]
  },
  {
   "cell_type": "code",
   "execution_count": 12,
   "id": "018cd197",
   "metadata": {
    "deletable": false,
    "nbgrader": {
     "cell_type": "code",
     "checksum": "a6683fbc8b63b247b1d667775951262d",
     "grade": false,
     "grade_id": "cell-1e8ffcaefc5829c6",
     "locked": false,
     "schema_version": 3,
     "solution": true,
     "task": false
    }
   },
   "outputs": [],
   "source": [
    "# YOUR CODE HERE\n",
    "# raise NotImplementedError() # Remove this line when you enter your solution\n",
    "\n",
    "ex_1_answer = \"A\"\n",
    "#ex_1_answer = \"B\"\n",
    "#ex_1_answer = \"C\"\n",
    "#ex_1_answer = \"D\""
   ]
  },
  {
   "cell_type": "markdown",
   "id": "23030437",
   "metadata": {
    "deletable": false,
    "editable": false,
    "nbgrader": {
     "cell_type": "markdown",
     "checksum": "5cc46d702b6bf4e2e4c22526cb143daa",
     "grade": false,
     "grade_id": "cell-7d7e2c84c6772c09",
     "locked": true,
     "schema_version": 3,
     "solution": false,
     "task": false
    }
   },
   "source": [
    "### Exercise 2\n",
    "\n",
    "Which type of relational database dimension modeling mimics the entity relationship way of data modeling, where all entities are connected to one table of facts?\n",
    "\n",
    "* A. OLAP Cubes\n",
    "* B. Star Schema\n",
    "* C. Non-relational Schema\n",
    "* D. Fact Table"
   ]
  },
  {
   "cell_type": "code",
   "execution_count": 2,
   "id": "d0b3c6af",
   "metadata": {
    "deletable": false,
    "nbgrader": {
     "cell_type": "code",
     "checksum": "f0db7f19d25fbc11e941d16bb5c77ca8",
     "grade": false,
     "grade_id": "cell-0da2b6bc083c5bfe",
     "locked": false,
     "schema_version": 3,
     "solution": true,
     "task": false
    }
   },
   "outputs": [],
   "source": [
    "# YOUR CODE HERE\n",
    "# raise NotImplementedError() # Remove this line when you enter your solution\n",
    "\n",
    "#ex_2_answer = \"A\"\n",
    "ex_2_answer = \"B\"\n",
    "#ex_2_answer = \"C\"\n",
    "#ex_2_answer = \"D\""
   ]
  },
  {
   "cell_type": "markdown",
   "id": "2810e89a",
   "metadata": {
    "deletable": false,
    "editable": false,
    "nbgrader": {
     "cell_type": "markdown",
     "checksum": "2dcc38485d6ba3b29fdc5b965944a2e5",
     "grade": false,
     "grade_id": "cell-0fedc71dfed6373d",
     "locked": true,
     "schema_version": 3,
     "solution": false,
     "task": false
    }
   },
   "source": [
    "### Exercise 3\n",
    "\n",
    "In Amazon Redshift, what is a data warehouse called?\n",
    "\n",
    "* A. node\n",
    "* B. bucket\n",
    "* C. instance\n",
    "* D. cluster"
   ]
  },
  {
   "cell_type": "code",
   "execution_count": 4,
   "id": "ea65defa",
   "metadata": {
    "deletable": false,
    "nbgrader": {
     "cell_type": "code",
     "checksum": "92c537d39b2ad5f5420c0f983c8ac759",
     "grade": false,
     "grade_id": "cell-3d1ce496bafa6e17",
     "locked": false,
     "schema_version": 3,
     "solution": true,
     "task": false
    }
   },
   "outputs": [],
   "source": [
    "# YOUR CODE HERE\n",
    "# raise NotImplementedError() # Remove this line when you enter your solution\n",
    "\n",
    "#ex_3_answer = \"A\"\n",
    "#ex_3_answer = \"B\"\n",
    "#ex_3_answer = \"C\"\n",
    "ex_3_answer = \"D\""
   ]
  },
  {
   "cell_type": "markdown",
   "id": "75b1acc0",
   "metadata": {
    "deletable": false,
    "editable": false,
    "nbgrader": {
     "cell_type": "markdown",
     "checksum": "ef36c826bac98583e83f9cdcfec8a799",
     "grade": false,
     "grade_id": "cell-c58bd64d2cb4c59f",
     "locked": true,
     "schema_version": 3,
     "solution": false,
     "task": false
    }
   },
   "source": [
    "### Exercise 4\n",
    "\n",
    "In an organization, what would you use to set specific permissions for different users, such as giving someone AmazonRedshiftFullAccess?\n",
    "\n",
    "* A. Root\n",
    "* B. S3\n",
    "* C. IAM\n",
    "* D. ARN"
   ]
  },
  {
   "cell_type": "code",
   "execution_count": 6,
   "id": "76223eca",
   "metadata": {
    "deletable": false,
    "nbgrader": {
     "cell_type": "code",
     "checksum": "8a677263a670fe943eb4a1405e467f2c",
     "grade": false,
     "grade_id": "cell-0a9f8491399dad70",
     "locked": false,
     "schema_version": 3,
     "solution": true,
     "task": false
    }
   },
   "outputs": [],
   "source": [
    "# YOUR CODE HERE\n",
    "# raise NotImplementedError() # Remove this line when you enter your solution\n",
    "\n",
    "#ex_4_answer = \"A\"\n",
    "#ex_4_answer = \"B\"\n",
    "ex_4_answer = \"C\"\n",
    "#ex_4_answer = \"D\""
   ]
  },
  {
   "cell_type": "markdown",
   "id": "88873613",
   "metadata": {
    "deletable": false,
    "editable": false,
    "nbgrader": {
     "cell_type": "markdown",
     "checksum": "e0afb4db5c7ba926ad9f483e58244ecd",
     "grade": false,
     "grade_id": "cell-fcef8e4ba5610d2a",
     "locked": true,
     "schema_version": 3,
     "solution": false,
     "task": false
    }
   },
   "source": [
    "### Exercise 5\n",
    "\n",
    "Which of these is cloud storage where we could create a bucket as a temporary stop for our data before we load and transform it?\n",
    "\n",
    "* A. Root\n",
    "* B. S3\n",
    "* C. IAM\n",
    "* D. ARN"
   ]
  },
  {
   "cell_type": "code",
   "execution_count": 10,
   "id": "1e30d350",
   "metadata": {
    "deletable": false,
    "nbgrader": {
     "cell_type": "code",
     "checksum": "9a9ee7230c9627b3556e515a75dd18db",
     "grade": false,
     "grade_id": "cell-5b8bce01ff596ccf",
     "locked": false,
     "schema_version": 3,
     "solution": true,
     "task": false
    }
   },
   "outputs": [],
   "source": [
    "# YOUR CODE HERE\n",
    "# raise NotImplementedError() # Remove this line when you enter your solution\n",
    "\n",
    "#ex_5_answer = \"A\"\n",
    "ex_5_answer = \"B\"\n",
    "#ex_5_answer = \"C\"\n",
    "#ex_5_answer = \"D\""
   ]
  },
  {
   "cell_type": "markdown",
   "id": "697c9f65",
   "metadata": {
    "deletable": false,
    "editable": false,
    "nbgrader": {
     "cell_type": "markdown",
     "checksum": "f3d25e9d2ad29ed0b20f482625db445d",
     "grade": false,
     "grade_id": "cell-94a4392797042494",
     "locked": true,
     "schema_version": 3,
     "solution": false,
     "task": false
    }
   },
   "source": [
    "## Testing Cells\n",
    "\n",
    "Run the below cells to check your answers. Make sure you run your solution cells first before running the cells below, otherwise you will get a `NameError` when checking your answers."
   ]
  },
  {
   "cell_type": "code",
   "execution_count": 13,
   "id": "7de6a7a5",
   "metadata": {
    "deletable": false,
    "editable": false,
    "nbgrader": {
     "cell_type": "code",
     "checksum": "bb5edb76c897fe29cb506509fa9839f2",
     "grade": true,
     "grade_id": "cell-f2406da504968cd9",
     "locked": true,
     "points": 1,
     "schema_version": 3,
     "solution": false,
     "task": false
    }
   },
   "outputs": [
    {
     "name": "stdout",
     "output_type": "stream",
     "text": [
      "Preliminary sanity check for Ex. 1 passed.\n",
      "Exercise 1 seems correct!\n"
     ]
    }
   ],
   "source": [
    "# Ex. 1\n",
    "assert \"ex_1_answer\" in globals(), \"Ex. 1 - You haven't defined the ex_1_answer variable!\"\n",
    "print(\"Preliminary sanity check for Ex. 1 passed.\")\n",
    "assert ord(ex_1_answer) == 65, \"Ex. 1 - Think again! Check the main case for a refresher!\"\n",
    "print(\"Exercise 1 seems correct!\")"
   ]
  },
  {
   "cell_type": "code",
   "execution_count": 3,
   "id": "c2ef42c0",
   "metadata": {
    "deletable": false,
    "editable": false,
    "nbgrader": {
     "cell_type": "code",
     "checksum": "d2999c947938e172a466e33942eaff12",
     "grade": true,
     "grade_id": "cell-a584e0fa552c4325",
     "locked": true,
     "points": 1,
     "schema_version": 3,
     "solution": false,
     "task": false
    }
   },
   "outputs": [
    {
     "name": "stdout",
     "output_type": "stream",
     "text": [
      "Preliminary sanity check for Ex. 2 passed.\n",
      "Exercise 2 seems correct!\n"
     ]
    }
   ],
   "source": [
    "# Ex. 2\n",
    "assert \"ex_2_answer\" in globals(), \"Ex. 2 - You haven't defined the ex_1_answer variable!\"\n",
    "print(\"Preliminary sanity check for Ex. 2 passed.\")\n",
    "assert ord(ex_2_answer) == 66, \"Ex. 2 - Think again! Check the main case for a refresher!\"\n",
    "print(\"Exercise 2 seems correct!\")"
   ]
  },
  {
   "cell_type": "code",
   "execution_count": 5,
   "id": "aa581407",
   "metadata": {
    "deletable": false,
    "editable": false,
    "nbgrader": {
     "cell_type": "code",
     "checksum": "7565182802513bd48031de58d8d1cb6f",
     "grade": true,
     "grade_id": "cell-05097b8377476302",
     "locked": true,
     "points": 1,
     "schema_version": 3,
     "solution": false,
     "task": false
    }
   },
   "outputs": [
    {
     "name": "stdout",
     "output_type": "stream",
     "text": [
      "Preliminary sanity check for Ex. 3 passed.\n",
      "Exercise 3 seems correct!\n"
     ]
    }
   ],
   "source": [
    "# Ex. 3\n",
    "assert \"ex_3_answer\" in globals(), \"Ex. 3 - You haven't defined the ex_3_answer variable!\"\n",
    "print(\"Preliminary sanity check for Ex. 3 passed.\")\n",
    "assert ord(ex_3_answer) == 68, \"Ex. 3 - Think again! Check the main case for a refresher!\"\n",
    "print(\"Exercise 3 seems correct!\")"
   ]
  },
  {
   "cell_type": "code",
   "execution_count": 7,
   "id": "9ea2e4ac",
   "metadata": {
    "deletable": false,
    "editable": false,
    "nbgrader": {
     "cell_type": "code",
     "checksum": "7070d978391a4fbd6950a887b1a5960f",
     "grade": true,
     "grade_id": "cell-a5f826387be825a0",
     "locked": true,
     "points": 1,
     "schema_version": 3,
     "solution": false,
     "task": false
    }
   },
   "outputs": [
    {
     "name": "stdout",
     "output_type": "stream",
     "text": [
      "Preliminary sanity check for Ex. 4 passed.\n",
      "Exercise 4 seems correct!\n"
     ]
    }
   ],
   "source": [
    "# Ex. 4\n",
    "assert \"ex_4_answer\" in globals(), \"Ex. 4 - You haven't defined the ex_4_answer variable!\"\n",
    "print(\"Preliminary sanity check for Ex. 4 passed.\")\n",
    "assert ord(ex_4_answer) == 67, \"Ex. 4 - Think again! Check the main case for a refresher!\"\n",
    "print(\"Exercise 4 seems correct!\")"
   ]
  },
  {
   "cell_type": "code",
   "execution_count": 11,
   "id": "36cb0b94",
   "metadata": {
    "deletable": false,
    "editable": false,
    "nbgrader": {
     "cell_type": "code",
     "checksum": "faa9938e69c7c5434cea9f6257288554",
     "grade": true,
     "grade_id": "cell-75f03680e0531c84",
     "locked": true,
     "points": 1,
     "schema_version": 3,
     "solution": false,
     "task": false
    }
   },
   "outputs": [
    {
     "name": "stdout",
     "output_type": "stream",
     "text": [
      "Preliminary sanity check for Ex. 5 passed.\n",
      "Exercise 5 seems correct!\n"
     ]
    }
   ],
   "source": [
    "# Ex. 5\n",
    "assert \"ex_5_answer\" in globals(), \"Ex. 5 - You haven't defined the ex_5_answer variable!\"\n",
    "print(\"Preliminary sanity check for Ex. 5 passed.\")\n",
    "assert ord(ex_5_answer) == 66, \"Ex. 5 - Think again! Check the main case for a refresher!\"\n",
    "print(\"Exercise 5 seems correct!\")"
   ]
  }
 ],
 "metadata": {
  "c1_recart": "7.23.0-57c20131aabc1dc2a8c675852d80a7da",
  "kernelspec": {
   "display_name": "Python 3",
   "language": "python",
   "name": "python3"
  },
  "language_info": {
   "codemirror_mode": {
    "name": "ipython",
    "version": 3
   },
   "file_extension": ".py",
   "mimetype": "text/x-python",
   "name": "python",
   "nbconvert_exporter": "python",
   "pygments_lexer": "ipython3",
   "version": "3.10.4"
  }
 },
 "nbformat": 4,
 "nbformat_minor": 5
}
